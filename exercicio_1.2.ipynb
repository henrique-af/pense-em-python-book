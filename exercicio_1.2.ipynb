{
 "cells": [
  {
   "cell_type": "markdown",
   "metadata": {},
   "source": [
    "# Exercicios 1.2 do livro Pense em Python"
   ]
  },
  {
   "cell_type": "markdown",
   "metadata": {},
   "source": [
    "#### 1 - Quantos segundos há em 42 minutos e 42 segundos?"
   ]
  },
  {
   "cell_type": "code",
   "execution_count": 4,
   "metadata": {},
   "outputs": [
    {
     "name": "stdout",
     "output_type": "stream",
     "text": [
      "2562\n"
     ]
    }
   ],
   "source": [
    "minutos = 42\n",
    "segundos = 42\n",
    "\n",
    "total_segundos = (minutos * 60) + segundos\n",
    "print(total_segundos)"
   ]
  },
  {
   "cell_type": "markdown",
   "metadata": {},
   "source": [
    "#### 2 - Quantas milhas há em 10 quilômetros? Dica: uma milha equivale a 1,61 quilômetro."
   ]
  },
  {
   "cell_type": "code",
   "execution_count": 5,
   "metadata": {},
   "outputs": [
    {
     "name": "stdout",
     "output_type": "stream",
     "text": [
      "6.211180124223602\n"
     ]
    }
   ],
   "source": [
    "quilometros = 10\n",
    "milhasEq = 1.61\n",
    "\n",
    "total_milhas = quilometros / milhasEq\n",
    "print(total_milhas)"
   ]
  },
  {
   "cell_type": "markdown",
   "metadata": {},
   "source": [
    "#### 3 - Se você correr 10 quilômetros em 42 minutos e 42 segundos, qual é o seu passo médio? (tempo por milha em minutos e segundos)? Qual é a sua velocidade média em milhas por hora?"
   ]
  },
  {
   "cell_type": "code",
   "execution_count": 10,
   "metadata": {},
   "outputs": [
    {
     "name": "stdout",
     "output_type": "stream",
     "text": [
      "Passo médio: 6.0 minutos e 52 segundos\n",
      "Velocidade média: 8.727653570337614 mh/h\n"
     ]
    }
   ],
   "source": [
    "passo_medio = total_segundos / total_milhas\n",
    "horas = total_segundos / 3600\n",
    "print(f'Passo médio: {passo_medio // 60} minutos e {int(passo_medio) % 60} segundos')\n",
    "\n",
    "velocidade_media = total_milhas / horas\n",
    "print(f'Velocidade média: {velocidade_media} mh/h')\n"
   ]
  }
 ],
 "metadata": {
  "kernelspec": {
   "display_name": "Python 3",
   "language": "python",
   "name": "python3"
  },
  "language_info": {
   "codemirror_mode": {
    "name": "ipython",
    "version": 3
   },
   "file_extension": ".py",
   "mimetype": "text/x-python",
   "name": "python",
   "nbconvert_exporter": "python",
   "pygments_lexer": "ipython3",
   "version": "3.12.7"
  }
 },
 "nbformat": 4,
 "nbformat_minor": 2
}
