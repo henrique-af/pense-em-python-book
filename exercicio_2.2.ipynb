{
 "cells": [
  {
   "cell_type": "markdown",
   "metadata": {},
   "source": [
    "# Exercicio 2.2 - Pratique o uso do interpretador do Python como uma calculadora:"
   ]
  },
  {
   "cell_type": "markdown",
   "metadata": {},
   "source": [
    "#### 1 - O volume de um esfera com o raio r é 4/3 Pi r³. Qual é o volume de uma esfera com o raio 5?"
   ]
  },
  {
   "cell_type": "code",
   "execution_count": 16,
   "metadata": {},
   "outputs": [
    {
     "name": "stdout",
     "output_type": "stream",
     "text": [
      "523.5987755982989\n"
     ]
    }
   ],
   "source": [
    "import math\n",
    "\n",
    "radius = 5\n",
    "volume = (4/3) * math.pi * radius**3\n",
    "print(volume)"
   ]
  },
  {
   "cell_type": "markdown",
   "metadata": {},
   "source": [
    "#### 2 - Suponha que o preço de capa de um livro seja R$ 24,95, mas as livrarias recebem um desconto de 40%. O transporte custa R$ 3,00 para o primeiro exemplar e 75 centavos para cada exemplar adicional. Qual é o custo total de atacado para 60 cópias?"
   ]
  },
  {
   "cell_type": "code",
   "execution_count": 17,
   "metadata": {},
   "outputs": [
    {
     "name": "stdout",
     "output_type": "stream",
     "text": [
      "R$ 945.45\n"
     ]
    }
   ],
   "source": [
    "book_price = 24.95\n",
    "discount_rate = 0.40\n",
    "num_copies = 60\n",
    "shipping_cost = 3 + (0.75 * (num_copies - 1)) \n",
    "discount_amount = book_price * discount_rate\n",
    "total_books_cost = (book_price - discount_amount) * num_copies\n",
    "\n",
    "total_cost = total_books_cost + shipping_cost\n",
    "print(f'R$ {total_cost:.2f}')"
   ]
  },
  {
   "cell_type": "markdown",
   "metadata": {},
   "source": [
    "#### 3 - Se eu sair da minha casa às 6:52 e correr 1 quilômetro a um certo passo (8min15s por quilômetro), então 3 quilômetros a um passo mais rápido(7min12s por quilômetro) e 1 quilômetro no mesmo passo usado em um primeiro lugar, que horas checoi em casa para o café da manhã?"
   ]
  },
  {
   "cell_type": "code",
   "execution_count": 18,
   "metadata": {},
   "outputs": [
    {
     "name": "stdout",
     "output_type": "stream",
     "text": [
      "Você chegará em casa às 7:30 para o café da manhã.\n"
     ]
    }
   ],
   "source": [
    "start_hour = 6\n",
    "start_minute = 52\n",
    "slow_pace_minutes = 8\n",
    "slow_pace_seconds = 15\n",
    "fast_pace_minutes = 7\n",
    "fast_pace_seconds = 12\n",
    "\n",
    "# Tempo para os 2 quilômetros no ritmo lento (1 km no início e 1 km no final)\n",
    "time_slow = 2 * (slow_pace_minutes + slow_pace_seconds / 60)\n",
    "\n",
    "# Tempo para os 3 quilômetros no ritmo rápido\n",
    "time_fast = 3 * (fast_pace_minutes + fast_pace_seconds / 60)\n",
    "\n",
    "# Tempo total da corrida (em minutos)\n",
    "total_time = time_slow + time_fast\n",
    "\n",
    "total_minutes = start_minute + total_time\n",
    "end_hour = start_hour + int(total_minutes // 60)\n",
    "end_minute = total_minutes % 60\n",
    "\n",
    "# Mostrar o horário de chegada\n",
    "print(f'Você chegará em casa às {int(end_hour)}:{int(end_minute):02d} para o café da manhã.')\n"
   ]
  }
 ],
 "metadata": {
  "kernelspec": {
   "display_name": "Python 3",
   "language": "python",
   "name": "python3"
  },
  "language_info": {
   "codemirror_mode": {
    "name": "ipython",
    "version": 3
   },
   "file_extension": ".py",
   "mimetype": "text/x-python",
   "name": "python",
   "nbconvert_exporter": "python",
   "pygments_lexer": "ipython3",
   "version": "3.12.7"
  }
 },
 "nbformat": 4,
 "nbformat_minor": 2
}
